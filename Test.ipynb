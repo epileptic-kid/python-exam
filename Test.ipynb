{
 "cells": [
  {
   "cell_type": "code",
   "execution_count": 1,
   "metadata": {},
   "outputs": [
    {
     "name": "stdout",
     "output_type": "stream",
     "text": [
      "Оберіть типи символів для включення в пароль:\n",
      "Будь ласка, введіть «Так» або «Ні».\n",
      "Будь ласка, введіть «Так» або «Ні».\n",
      "Будь ласка, введіть «Так» або «Ні».\n"
     ]
    },
    {
     "ename": "KeyboardInterrupt",
     "evalue": "Interrupted by user",
     "output_type": "error",
     "traceback": [
      "\u001b[0;31m---------------------------------------------------------------------------\u001b[0m",
      "\u001b[0;31mKeyboardInterrupt\u001b[0m                         Traceback (most recent call last)",
      "Cell \u001b[0;32mIn[1], line 53\u001b[0m\n\u001b[1;32m     51\u001b[0m use_lowercase \u001b[38;5;241m=\u001b[39m get_yes_or_no_input(\u001b[38;5;124m\"\u001b[39m\u001b[38;5;124mВключити малі літери (Так/Ні): \u001b[39m\u001b[38;5;124m\"\u001b[39m) \u001b[38;5;241m==\u001b[39m \u001b[38;5;124m'\u001b[39m\u001b[38;5;124mтак\u001b[39m\u001b[38;5;124m'\u001b[39m\n\u001b[1;32m     52\u001b[0m use_digits \u001b[38;5;241m=\u001b[39m get_yes_or_no_input(\u001b[38;5;124m\"\u001b[39m\u001b[38;5;124mВключити цифри (Так/Ні): \u001b[39m\u001b[38;5;124m\"\u001b[39m) \u001b[38;5;241m==\u001b[39m \u001b[38;5;124m'\u001b[39m\u001b[38;5;124mтак\u001b[39m\u001b[38;5;124m'\u001b[39m\n\u001b[0;32m---> 53\u001b[0m use_special_chars \u001b[38;5;241m=\u001b[39m \u001b[43mget_yes_or_no_input\u001b[49m\u001b[43m(\u001b[49m\u001b[38;5;124;43m\"\u001b[39;49m\u001b[38;5;124;43mВключити спеціальні символи (Так/Ні): \u001b[39;49m\u001b[38;5;124;43m\"\u001b[39;49m\u001b[43m)\u001b[49m \u001b[38;5;241m==\u001b[39m \u001b[38;5;124m'\u001b[39m\u001b[38;5;124mтак\u001b[39m\u001b[38;5;124m'\u001b[39m\n\u001b[1;32m     55\u001b[0m password \u001b[38;5;241m=\u001b[39m generate_password(length, use_uppercase, use_lowercase, use_digits, use_special_chars)\n\u001b[1;32m     56\u001b[0m \u001b[38;5;28;01mif\u001b[39;00m password:\n",
      "Cell \u001b[0;32mIn[1], line 34\u001b[0m, in \u001b[0;36mget_yes_or_no_input\u001b[0;34m(y)\u001b[0m\n\u001b[1;32m     32\u001b[0m \u001b[38;5;28;01mdef\u001b[39;00m \u001b[38;5;21mget_yes_or_no_input\u001b[39m(y):\n\u001b[1;32m     33\u001b[0m     \u001b[38;5;28;01mwhile\u001b[39;00m \u001b[38;5;28;01mTrue\u001b[39;00m:\n\u001b[0;32m---> 34\u001b[0m         user_input \u001b[38;5;241m=\u001b[39m \u001b[38;5;28;43minput\u001b[39;49m\u001b[43m(\u001b[49m\u001b[43my\u001b[49m\u001b[43m)\u001b[49m\u001b[38;5;241m.\u001b[39mlower()\n\u001b[1;32m     35\u001b[0m         \u001b[38;5;28;01mif\u001b[39;00m user_input \u001b[38;5;129;01min\u001b[39;00m [\u001b[38;5;124m'\u001b[39m\u001b[38;5;124mтак\u001b[39m\u001b[38;5;124m'\u001b[39m, \u001b[38;5;124m'\u001b[39m\u001b[38;5;124mні\u001b[39m\u001b[38;5;124m'\u001b[39m]:\n\u001b[1;32m     36\u001b[0m             \u001b[38;5;28;01mreturn\u001b[39;00m user_input\n",
      "File \u001b[0;32m~/Library/Python/3.11/lib/python/site-packages/ipykernel/kernelbase.py:1202\u001b[0m, in \u001b[0;36mKernel.raw_input\u001b[0;34m(self, prompt)\u001b[0m\n\u001b[1;32m   1200\u001b[0m     msg \u001b[39m=\u001b[39m \u001b[39m\"\u001b[39m\u001b[39mraw_input was called, but this frontend does not support input requests.\u001b[39m\u001b[39m\"\u001b[39m\n\u001b[1;32m   1201\u001b[0m     \u001b[39mraise\u001b[39;00m StdinNotImplementedError(msg)\n\u001b[0;32m-> 1202\u001b[0m \u001b[39mreturn\u001b[39;00m \u001b[39mself\u001b[39;49m\u001b[39m.\u001b[39;49m_input_request(\n\u001b[1;32m   1203\u001b[0m     \u001b[39mstr\u001b[39;49m(prompt),\n\u001b[1;32m   1204\u001b[0m     \u001b[39mself\u001b[39;49m\u001b[39m.\u001b[39;49m_parent_ident[\u001b[39m\"\u001b[39;49m\u001b[39mshell\u001b[39;49m\u001b[39m\"\u001b[39;49m],\n\u001b[1;32m   1205\u001b[0m     \u001b[39mself\u001b[39;49m\u001b[39m.\u001b[39;49mget_parent(\u001b[39m\"\u001b[39;49m\u001b[39mshell\u001b[39;49m\u001b[39m\"\u001b[39;49m),\n\u001b[1;32m   1206\u001b[0m     password\u001b[39m=\u001b[39;49m\u001b[39mFalse\u001b[39;49;00m,\n\u001b[1;32m   1207\u001b[0m )\n",
      "File \u001b[0;32m~/Library/Python/3.11/lib/python/site-packages/ipykernel/kernelbase.py:1245\u001b[0m, in \u001b[0;36mKernel._input_request\u001b[0;34m(self, prompt, ident, parent, password)\u001b[0m\n\u001b[1;32m   1242\u001b[0m \u001b[39mexcept\u001b[39;00m \u001b[39mKeyboardInterrupt\u001b[39;00m:\n\u001b[1;32m   1243\u001b[0m     \u001b[39m# re-raise KeyboardInterrupt, to truncate traceback\u001b[39;00m\n\u001b[1;32m   1244\u001b[0m     msg \u001b[39m=\u001b[39m \u001b[39m\"\u001b[39m\u001b[39mInterrupted by user\u001b[39m\u001b[39m\"\u001b[39m\n\u001b[0;32m-> 1245\u001b[0m     \u001b[39mraise\u001b[39;00m \u001b[39mKeyboardInterrupt\u001b[39;00m(msg) \u001b[39mfrom\u001b[39;00m \u001b[39mNone\u001b[39;00m\n\u001b[1;32m   1246\u001b[0m \u001b[39mexcept\u001b[39;00m \u001b[39mException\u001b[39;00m:\n\u001b[1;32m   1247\u001b[0m     \u001b[39mself\u001b[39m\u001b[39m.\u001b[39mlog\u001b[39m.\u001b[39mwarning(\u001b[39m\"\u001b[39m\u001b[39mInvalid Message:\u001b[39m\u001b[39m\"\u001b[39m, exc_info\u001b[39m=\u001b[39m\u001b[39mTrue\u001b[39;00m)\n",
      "\u001b[0;31mKeyboardInterrupt\u001b[0m: Interrupted by user"
     ]
    }
   ],
   "source": [
    "# Генератор випадкових паролів\n",
    "# Створіть програму, яка генерує випадкові паролі. Користувач може вказати довжину пароля\n",
    "# та вимоги до символів (цифри, великі/малі літери, спеціальні символи). Використовуйте\n",
    "# модуль 'random' для генерації випадкових символів. Програма повинна перевіряти,\n",
    "# що згенерований пароль відповідає всім вимогам.\n",
    "\n",
    "import random\n",
    "import string\n",
    "\n",
    "def generate_password(length, use_uppercase=False, use_lowercase=False, use_digits=False, use_special_chars=False):\n",
    "    chars = \"\"\n",
    "    if use_uppercase:\n",
    "        chars += string.ascii_uppercase\n",
    "    if use_lowercase:\n",
    "        chars += string.ascii_lowercase\n",
    "    if use_digits:\n",
    "        chars += string.digits\n",
    "    if use_special_chars:\n",
    "        chars += string.punctuation\n",
    "\n",
    "    if not any([use_uppercase, use_lowercase, use_digits, use_special_chars]):\n",
    "        print(\"Потрібно вибрати хоча б один тип символів для генерації пароля.\")\n",
    "        return None\n",
    "\n",
    "    if length < 1:\n",
    "        print(\"Довжина пароля повинна бути більше 0\")\n",
    "        return None\n",
    "\n",
    "    password = \"\".join(random.choice(chars) for _ in range(length))\n",
    "    return password\n",
    "\n",
    "def get_yes_or_no_input(y):\n",
    "    while True:\n",
    "        user_input = input(y).lower()\n",
    "        if user_input in ['так', 'ні']:\n",
    "            return user_input\n",
    "        print(\"Будь ласка, введіть «Так» або «Ні».\")\n",
    "\n",
    "while True:\n",
    "    try:\n",
    "        length = int(input(\"Введіть бажану довжину пароля: \"))\n",
    "        if length < 1:\n",
    "            raise ValueError(\"Довжина пароля повинна бути більше 0\")\n",
    "        break\n",
    "    except ValueError as x:\n",
    "        print(x)\n",
    "\n",
    "while True:\n",
    "    print(\"Оберіть типи символів для включення в пароль:\")\n",
    "    use_uppercase = get_yes_or_no_input(\"Включити великі літери (Так/Ні): \") == 'так'\n",
    "    use_lowercase = get_yes_or_no_input(\"Включити малі літери (Так/Ні): \") == 'так'\n",
    "    use_digits = get_yes_or_no_input(\"Включити цифри (Так/Ні): \") == 'так'\n",
    "    use_special_chars = get_yes_or_no_input(\"Включити спеціальні символи (Так/Ні): \") == 'так'\n",
    "\n",
    "    password = generate_password(length, use_uppercase, use_lowercase, use_digits, use_special_chars)\n",
    "    if password:\n",
    "        print(f\"Згенерований пароль: {password}\")\n",
    "\n",
    "    confirm = get_yes_or_no_input(\"Бажаєте згенерувати ще один пароль? (Так/Ні): \")\n",
    "    if confirm != 'так':\n",
    "        break\n",
    "\n",
    "\n",
    "\n",
    "\n",
    "    "
   ]
  }
 ],
 "metadata": {
  "kernelspec": {
   "display_name": "Python 3.11.4 64-bit",
   "language": "python",
   "name": "python3"
  },
  "language_info": {
   "codemirror_mode": {
    "name": "ipython",
    "version": 3
   },
   "file_extension": ".py",
   "mimetype": "text/x-python",
   "name": "python",
   "nbconvert_exporter": "python",
   "pygments_lexer": "ipython3",
   "version": "3.11.4"
  },
  "orig_nbformat": 4,
  "vscode": {
   "interpreter": {
    "hash": "aee8b7b246df8f9039afb4144a1f6fd8d2ca17a180786b69acc140d282b71a49"
   }
  }
 },
 "nbformat": 4,
 "nbformat_minor": 2
}
